{
 "cells": [
  {
   "cell_type": "code",
   "execution_count": 1,
   "id": "2a800960",
   "metadata": {},
   "outputs": [],
   "source": [
    "import numpy as np"
   ]
  },
  {
   "cell_type": "code",
   "execution_count": 2,
   "id": "c74ba8ff",
   "metadata": {
    "scrolled": false
   },
   "outputs": [
    {
     "data": {
      "text/plain": [
       "'1.20.1'"
      ]
     },
     "execution_count": 2,
     "metadata": {},
     "output_type": "execute_result"
    }
   ],
   "source": [
    "np.version.version"
   ]
  },
  {
   "cell_type": "markdown",
   "id": "64d00131",
   "metadata": {},
   "source": [
    "## ARRAY"
   ]
  },
  {
   "cell_type": "code",
   "execution_count": 3,
   "id": "f0785a8e",
   "metadata": {},
   "outputs": [
    {
     "data": {
      "text/plain": [
       "array([1, 2, 3, 4, 5, 6, 7, 8, 9])"
      ]
     },
     "execution_count": 3,
     "metadata": {},
     "output_type": "execute_result"
    }
   ],
   "source": [
    "arr = np.array([1,2,3,4,5,6,7,8,9])\n",
    "arr"
   ]
  },
  {
   "cell_type": "code",
   "execution_count": 4,
   "id": "2bbd13be",
   "metadata": {},
   "outputs": [
    {
     "name": "stdout",
     "output_type": "stream",
     "text": [
      "[1 2 3 4 5 6 7 8 9]\n"
     ]
    }
   ],
   "source": [
    "print(arr)"
   ]
  },
  {
   "cell_type": "code",
   "execution_count": 5,
   "id": "fb18b908",
   "metadata": {},
   "outputs": [
    {
     "name": "stdout",
     "output_type": "stream",
     "text": [
      "<class 'numpy.ndarray'>\n"
     ]
    }
   ],
   "source": [
    "print(type(arr))"
   ]
  },
  {
   "cell_type": "code",
   "execution_count": 6,
   "id": "7bcc2741",
   "metadata": {},
   "outputs": [
    {
     "data": {
      "text/plain": [
       "array([10, 20, 30, 40, 50, 60, 70, 80, 90])"
      ]
     },
     "execution_count": 6,
     "metadata": {},
     "output_type": "execute_result"
    }
   ],
   "source": [
    "arr*10"
   ]
  },
  {
   "cell_type": "code",
   "execution_count": 7,
   "id": "fdbfc02a",
   "metadata": {},
   "outputs": [
    {
     "name": "stdout",
     "output_type": "stream",
     "text": [
      "Help on built-in function array in module numpy:\n",
      "\n",
      "array(...)\n",
      "    array(object, dtype=None, *, copy=True, order='K', subok=False, ndmin=0,\n",
      "          like=None)\n",
      "    \n",
      "    Create an array.\n",
      "    \n",
      "    Parameters\n",
      "    ----------\n",
      "    object : array_like\n",
      "        An array, any object exposing the array interface, an object whose\n",
      "        __array__ method returns an array, or any (nested) sequence.\n",
      "    dtype : data-type, optional\n",
      "        The desired data-type for the array.  If not given, then the type will\n",
      "        be determined as the minimum type required to hold the objects in the\n",
      "        sequence.\n",
      "    copy : bool, optional\n",
      "        If true (default), then the object is copied.  Otherwise, a copy will\n",
      "        only be made if __array__ returns a copy, if obj is a nested sequence,\n",
      "        or if a copy is needed to satisfy any of the other requirements\n",
      "        (`dtype`, `order`, etc.).\n",
      "    order : {'K', 'A', 'C', 'F'}, optional\n",
      "        Specify the memory layout of the array. If object is not an array, the\n",
      "        newly created array will be in C order (row major) unless 'F' is\n",
      "        specified, in which case it will be in Fortran order (column major).\n",
      "        If object is an array the following holds.\n",
      "    \n",
      "        ===== ========= ===================================================\n",
      "        order  no copy                     copy=True\n",
      "        ===== ========= ===================================================\n",
      "        'K'   unchanged F & C order preserved, otherwise most similar order\n",
      "        'A'   unchanged F order if input is F and not C, otherwise C order\n",
      "        'C'   C order   C order\n",
      "        'F'   F order   F order\n",
      "        ===== ========= ===================================================\n",
      "    \n",
      "        When ``copy=False`` and a copy is made for other reasons, the result is\n",
      "        the same as if ``copy=True``, with some exceptions for `A`, see the\n",
      "        Notes section. The default order is 'K'.\n",
      "    subok : bool, optional\n",
      "        If True, then sub-classes will be passed-through, otherwise\n",
      "        the returned array will be forced to be a base-class array (default).\n",
      "    ndmin : int, optional\n",
      "        Specifies the minimum number of dimensions that the resulting\n",
      "        array should have.  Ones will be pre-pended to the shape as\n",
      "        needed to meet this requirement.\n",
      "    like : array_like\n",
      "        Reference object to allow the creation of arrays which are not\n",
      "        NumPy arrays. If an array-like passed in as ``like`` supports\n",
      "        the ``__array_function__`` protocol, the result will be defined\n",
      "        by it. In this case, it ensures the creation of an array object\n",
      "        compatible with that passed in via this argument.\n",
      "    \n",
      "        .. note::\n",
      "            The ``like`` keyword is an experimental feature pending on\n",
      "            acceptance of :ref:`NEP 35 <NEP35>`.\n",
      "    \n",
      "        .. versionadded:: 1.20.0\n",
      "    \n",
      "    Returns\n",
      "    -------\n",
      "    out : ndarray\n",
      "        An array object satisfying the specified requirements.\n",
      "    \n",
      "    See Also\n",
      "    --------\n",
      "    empty_like : Return an empty array with shape and type of input.\n",
      "    ones_like : Return an array of ones with shape and type of input.\n",
      "    zeros_like : Return an array of zeros with shape and type of input.\n",
      "    full_like : Return a new array with shape of input filled with value.\n",
      "    empty : Return a new uninitialized array.\n",
      "    ones : Return a new array setting values to one.\n",
      "    zeros : Return a new array setting values to zero.\n",
      "    full : Return a new array of given shape filled with value.\n",
      "    \n",
      "    \n",
      "    Notes\n",
      "    -----\n",
      "    When order is 'A' and `object` is an array in neither 'C' nor 'F' order,\n",
      "    and a copy is forced by a change in dtype, then the order of the result is\n",
      "    not necessarily 'C' as expected. This is likely a bug.\n",
      "    \n",
      "    Examples\n",
      "    --------\n",
      "    >>> np.array([1, 2, 3])\n",
      "    array([1, 2, 3])\n",
      "    \n",
      "    Upcasting:\n",
      "    \n",
      "    >>> np.array([1, 2, 3.0])\n",
      "    array([ 1.,  2.,  3.])\n",
      "    \n",
      "    More than one dimension:\n",
      "    \n",
      "    >>> np.array([[1, 2], [3, 4]])\n",
      "    array([[1, 2],\n",
      "           [3, 4]])\n",
      "    \n",
      "    Minimum dimensions 2:\n",
      "    \n",
      "    >>> np.array([1, 2, 3], ndmin=2)\n",
      "    array([[1, 2, 3]])\n",
      "    \n",
      "    Type provided:\n",
      "    \n",
      "    >>> np.array([1, 2, 3], dtype=complex)\n",
      "    array([ 1.+0.j,  2.+0.j,  3.+0.j])\n",
      "    \n",
      "    Data-type consisting of more than one element:\n",
      "    \n",
      "    >>> x = np.array([(1,2),(3,4)],dtype=[('a','<i4'),('b','<i4')])\n",
      "    >>> x['a']\n",
      "    array([1, 3])\n",
      "    \n",
      "    Creating an array from sub-classes:\n",
      "    \n",
      "    >>> np.array(np.mat('1 2; 3 4'))\n",
      "    array([[1, 2],\n",
      "           [3, 4]])\n",
      "    \n",
      "    >>> np.array(np.mat('1 2; 3 4'), subok=True)\n",
      "    matrix([[1, 2],\n",
      "            [3, 4]])\n",
      "\n"
     ]
    }
   ],
   "source": [
    "help(np.array)"
   ]
  },
  {
   "cell_type": "code",
   "execution_count": 8,
   "id": "c9e17eeb",
   "metadata": {},
   "outputs": [
    {
     "data": {
      "text/plain": [
       "array([[1, 2, 3],\n",
       "       [4, 5, 6]])"
      ]
     },
     "execution_count": 8,
     "metadata": {},
     "output_type": "execute_result"
    }
   ],
   "source": [
    "arr2d = np.array([[1,2,3],[4,5,6]])\n",
    "arr2d"
   ]
  },
  {
   "cell_type": "code",
   "execution_count": 9,
   "id": "096e9850",
   "metadata": {},
   "outputs": [
    {
     "data": {
      "text/plain": [
       "array([[[ 1,  2,  3],\n",
       "        [ 4,  5,  6]],\n",
       "\n",
       "       [[10, 11, 12],\n",
       "        [13, 14, 15]]])"
      ]
     },
     "execution_count": 9,
     "metadata": {},
     "output_type": "execute_result"
    }
   ],
   "source": [
    "arr3d = np.array([[[1,2,3],[4,5,6]],[[10,11,12],[13,14,15]]])\n",
    "arr3d"
   ]
  },
  {
   "cell_type": "code",
   "execution_count": 10,
   "id": "06e158e9",
   "metadata": {},
   "outputs": [
    {
     "data": {
      "text/plain": [
       "array([[ 2,  4,  6],\n",
       "       [ 8, 10, 12]])"
      ]
     },
     "execution_count": 10,
     "metadata": {},
     "output_type": "execute_result"
    }
   ],
   "source": [
    "arr2d*2"
   ]
  },
  {
   "cell_type": "code",
   "execution_count": 11,
   "id": "999b5040",
   "metadata": {},
   "outputs": [
    {
     "data": {
      "text/plain": [
       "array([[[ 2,  4,  6],\n",
       "        [ 8, 10, 12]],\n",
       "\n",
       "       [[20, 22, 24],\n",
       "        [26, 28, 30]]])"
      ]
     },
     "execution_count": 11,
     "metadata": {},
     "output_type": "execute_result"
    }
   ],
   "source": [
    "arr3d*2"
   ]
  },
  {
   "cell_type": "markdown",
   "id": "c6796c96",
   "metadata": {},
   "source": [
    "### Para ver las dimensiones de Array"
   ]
  },
  {
   "cell_type": "code",
   "execution_count": 12,
   "id": "8474534c",
   "metadata": {},
   "outputs": [
    {
     "name": "stdout",
     "output_type": "stream",
     "text": [
      "2\n"
     ]
    }
   ],
   "source": [
    "print(arr2d.ndim)"
   ]
  },
  {
   "cell_type": "code",
   "execution_count": 13,
   "id": "937486f0",
   "metadata": {
    "scrolled": true
   },
   "outputs": [
    {
     "name": "stdout",
     "output_type": "stream",
     "text": [
      "2\n"
     ]
    }
   ],
   "source": [
    "print(arr2d.ndim)"
   ]
  },
  {
   "cell_type": "code",
   "execution_count": 14,
   "id": "0c7b8616",
   "metadata": {
    "scrolled": true
   },
   "outputs": [
    {
     "name": "stdout",
     "output_type": "stream",
     "text": [
      "3\n"
     ]
    }
   ],
   "source": [
    "print(arr3d.ndim)"
   ]
  },
  {
   "cell_type": "markdown",
   "id": "b9d703b8",
   "metadata": {},
   "source": [
    "### ARRAY de 6 dimensiones"
   ]
  },
  {
   "cell_type": "code",
   "execution_count": 15,
   "id": "9620c43d",
   "metadata": {},
   "outputs": [
    {
     "data": {
      "text/plain": [
       "array([[[[[[1, 2]]]]]])"
      ]
     },
     "execution_count": 15,
     "metadata": {},
     "output_type": "execute_result"
    }
   ],
   "source": [
    "arr6d = np.array([1,2], ndmin = 6)\n",
    "arr6d"
   ]
  },
  {
   "cell_type": "markdown",
   "id": "e8dced73",
   "metadata": {},
   "source": [
    "### Tamaño de Array"
   ]
  },
  {
   "cell_type": "code",
   "execution_count": 16,
   "id": "32d191e8",
   "metadata": {},
   "outputs": [
    {
     "data": {
      "text/plain": [
       "9"
      ]
     },
     "execution_count": 16,
     "metadata": {},
     "output_type": "execute_result"
    }
   ],
   "source": [
    "arr.size"
   ]
  },
  {
   "cell_type": "code",
   "execution_count": 17,
   "id": "b4afbdf6",
   "metadata": {},
   "outputs": [
    {
     "data": {
      "text/plain": [
       "6"
      ]
     },
     "execution_count": 17,
     "metadata": {},
     "output_type": "execute_result"
    }
   ],
   "source": [
    "arr2d.size"
   ]
  },
  {
   "cell_type": "code",
   "execution_count": 18,
   "id": "cc87365a",
   "metadata": {},
   "outputs": [
    {
     "data": {
      "text/plain": [
       "12"
      ]
     },
     "execution_count": 18,
     "metadata": {},
     "output_type": "execute_result"
    }
   ],
   "source": [
    "arr3d.size"
   ]
  },
  {
   "cell_type": "code",
   "execution_count": 19,
   "id": "5acbee12",
   "metadata": {},
   "outputs": [
    {
     "data": {
      "text/plain": [
       "2"
      ]
     },
     "execution_count": 19,
     "metadata": {},
     "output_type": "execute_result"
    }
   ],
   "source": [
    "arr6d.size"
   ]
  },
  {
   "cell_type": "markdown",
   "id": "3e4c9855",
   "metadata": {},
   "source": [
    "### Ver Posiciones de Array"
   ]
  },
  {
   "cell_type": "code",
   "execution_count": 20,
   "id": "10cf418f",
   "metadata": {},
   "outputs": [
    {
     "data": {
      "text/plain": [
       "1"
      ]
     },
     "execution_count": 20,
     "metadata": {},
     "output_type": "execute_result"
    }
   ],
   "source": [
    "arr[0]"
   ]
  },
  {
   "cell_type": "code",
   "execution_count": 21,
   "id": "5a50cee5",
   "metadata": {},
   "outputs": [
    {
     "name": "stdout",
     "output_type": "stream",
     "text": [
      "1 2\n"
     ]
    }
   ],
   "source": [
    "print(arr[0],arr[1])"
   ]
  },
  {
   "cell_type": "code",
   "execution_count": 22,
   "id": "13851dd6",
   "metadata": {},
   "outputs": [
    {
     "name": "stdout",
     "output_type": "stream",
     "text": [
      "9\n",
      "1\n"
     ]
    }
   ],
   "source": [
    "# Valor indice negativo -1: Empieza del ultimo\n",
    "print(arr[-1])\n",
    "print(arr[-9])"
   ]
  },
  {
   "cell_type": "code",
   "execution_count": 23,
   "id": "fc65b814",
   "metadata": {},
   "outputs": [
    {
     "name": "stdout",
     "output_type": "stream",
     "text": [
      "[[1 2 3]\n",
      " [4 5 6]]\n"
     ]
    }
   ],
   "source": [
    "print(arr2d)"
   ]
  },
  {
   "cell_type": "code",
   "execution_count": 24,
   "id": "af652e87",
   "metadata": {},
   "outputs": [
    {
     "name": "stdout",
     "output_type": "stream",
     "text": [
      "6\n"
     ]
    }
   ],
   "source": [
    "# Valor de indice array 2 dimensiones: Fila , Columna\n",
    "print(arr2d[1,2])"
   ]
  },
  {
   "cell_type": "code",
   "execution_count": 25,
   "id": "7843ec49",
   "metadata": {},
   "outputs": [
    {
     "name": "stdout",
     "output_type": "stream",
     "text": [
      "2\n"
     ]
    }
   ],
   "source": [
    "print(arr2d[0,1])"
   ]
  },
  {
   "cell_type": "markdown",
   "id": "cd86e7af",
   "metadata": {},
   "source": [
    "### Cortar ARRAY"
   ]
  },
  {
   "cell_type": "code",
   "execution_count": 26,
   "id": "02199a66",
   "metadata": {},
   "outputs": [
    {
     "name": "stdout",
     "output_type": "stream",
     "text": [
      "[1 2 3 4 5 6 7 8 9]\n"
     ]
    }
   ],
   "source": [
    "print(arr)"
   ]
  },
  {
   "cell_type": "code",
   "execution_count": 27,
   "id": "2731b437",
   "metadata": {},
   "outputs": [
    {
     "name": "stdout",
     "output_type": "stream",
     "text": [
      "[2 3 4]\n"
     ]
    }
   ],
   "source": [
    "print(arr[1:4])"
   ]
  },
  {
   "cell_type": "code",
   "execution_count": 28,
   "id": "4ac54d04",
   "metadata": {},
   "outputs": [
    {
     "name": "stdout",
     "output_type": "stream",
     "text": [
      "[3 4 5 6 7 8 9]\n"
     ]
    }
   ],
   "source": [
    "print(arr[2:])"
   ]
  },
  {
   "cell_type": "code",
   "execution_count": 29,
   "id": "c295973d",
   "metadata": {},
   "outputs": [
    {
     "name": "stdout",
     "output_type": "stream",
     "text": [
      "[1 2 3 4]\n"
     ]
    }
   ],
   "source": [
    "print(arr[:4])"
   ]
  },
  {
   "cell_type": "code",
   "execution_count": 30,
   "id": "1fe4e51a",
   "metadata": {},
   "outputs": [
    {
     "name": "stdout",
     "output_type": "stream",
     "text": [
      "[1 3 5 7 9]\n"
     ]
    }
   ],
   "source": [
    "# Inicio:Final:Salto\n",
    "print(arr[0:9:2])"
   ]
  },
  {
   "cell_type": "code",
   "execution_count": 31,
   "id": "03755ef8",
   "metadata": {},
   "outputs": [
    {
     "name": "stdout",
     "output_type": "stream",
     "text": [
      "[1 3 5 7 9]\n"
     ]
    }
   ],
   "source": [
    "print(arr[::2])"
   ]
  },
  {
   "cell_type": "code",
   "execution_count": 32,
   "id": "e09e5047",
   "metadata": {},
   "outputs": [
    {
     "name": "stdout",
     "output_type": "stream",
     "text": [
      "[[1 2 3]\n",
      " [4 5 6]]\n"
     ]
    }
   ],
   "source": [
    "# Cortar Array para 2 dimensiones\n",
    "print(arr2d)"
   ]
  },
  {
   "cell_type": "code",
   "execution_count": 33,
   "id": "32e5c3d7",
   "metadata": {},
   "outputs": [
    {
     "name": "stdout",
     "output_type": "stream",
     "text": [
      "[[2]\n",
      " [5]]\n"
     ]
    }
   ],
   "source": [
    "print(arr2d[0:2,1:2])"
   ]
  },
  {
   "cell_type": "markdown",
   "id": "983cdc31",
   "metadata": {},
   "source": [
    "### Numpy VS Python List"
   ]
  },
  {
   "cell_type": "code",
   "execution_count": 34,
   "id": "d15df5d9",
   "metadata": {},
   "outputs": [
    {
     "name": "stdout",
     "output_type": "stream",
     "text": [
      "0:00:00.026988\n"
     ]
    }
   ],
   "source": [
    "from datetime import datetime\n",
    "py_lista = [i for i in range(100000)]\n",
    "start = datetime.now()\n",
    "py_lista = [i+3 for i in py_lista]\n",
    "end = datetime.now()\n",
    "print(end-start)"
   ]
  },
  {
   "cell_type": "code",
   "execution_count": 35,
   "id": "d6edc1e5",
   "metadata": {},
   "outputs": [
    {
     "name": "stdout",
     "output_type": "stream",
     "text": [
      "0:00:00.001000\n"
     ]
    }
   ],
   "source": [
    "np_array = np.array([i for i in range(1000000)])\n",
    "start = datetime.now()\n",
    "np_array += 3\n",
    "end = datetime.now()\n",
    "print(end-start)"
   ]
  },
  {
   "cell_type": "markdown",
   "id": "9b2958ca",
   "metadata": {},
   "source": [
    "### Shape"
   ]
  },
  {
   "cell_type": "code",
   "execution_count": 36,
   "id": "069df391",
   "metadata": {},
   "outputs": [
    {
     "name": "stdout",
     "output_type": "stream",
     "text": [
      "[1 2 3 4 5 6 7 8 9]\n",
      "(9,)\n"
     ]
    }
   ],
   "source": [
    "print(arr)\n",
    "print(arr.shape)"
   ]
  },
  {
   "cell_type": "code",
   "execution_count": 37,
   "id": "314c106b",
   "metadata": {},
   "outputs": [
    {
     "name": "stdout",
     "output_type": "stream",
     "text": [
      "[[1 2 3]\n",
      " [4 5 6]]\n",
      "(2, 3)\n"
     ]
    }
   ],
   "source": [
    "print(arr2d)\n",
    "print(arr2d.shape)"
   ]
  },
  {
   "cell_type": "code",
   "execution_count": 38,
   "id": "b91c1958",
   "metadata": {},
   "outputs": [
    {
     "name": "stdout",
     "output_type": "stream",
     "text": [
      "[[[ 1  2  3]\n",
      "  [ 4  5  6]]\n",
      "\n",
      " [[10 11 12]\n",
      "  [13 14 15]]]\n",
      "(2, 2, 3)\n"
     ]
    }
   ],
   "source": [
    "print(arr3d)\n",
    "print(arr3d.shape)"
   ]
  },
  {
   "cell_type": "markdown",
   "id": "b333bde1",
   "metadata": {},
   "source": [
    "### Reshape: Cambiar N° Elementos de un array"
   ]
  },
  {
   "cell_type": "code",
   "execution_count": 39,
   "id": "9a97761e",
   "metadata": {},
   "outputs": [
    {
     "name": "stdout",
     "output_type": "stream",
     "text": [
      "[[1 2 3]\n",
      " [4 5 6]\n",
      " [7 8 9]]\n"
     ]
    }
   ],
   "source": [
    "reshapeArr = arr.reshape(3,3)\n",
    "print(reshapeArr)\n"
   ]
  },
  {
   "cell_type": "code",
   "execution_count": 40,
   "id": "f24c3559",
   "metadata": {},
   "outputs": [
    {
     "name": "stdout",
     "output_type": "stream",
     "text": [
      "(3, 3)\n"
     ]
    }
   ],
   "source": [
    "print(reshapeArr.shape)"
   ]
  },
  {
   "cell_type": "code",
   "execution_count": 41,
   "id": "710f98fb",
   "metadata": {},
   "outputs": [
    {
     "name": "stdout",
     "output_type": "stream",
     "text": [
      "[1 2 3 4 5 6]\n"
     ]
    }
   ],
   "source": [
    "reshapeArr2d = arr2d.reshape(-1) # -1 para pasarlo a 1 dimension\n",
    "print(reshapeArr2d)"
   ]
  },
  {
   "cell_type": "code",
   "execution_count": 42,
   "id": "bf78e8c7",
   "metadata": {},
   "outputs": [
    {
     "name": "stdout",
     "output_type": "stream",
     "text": [
      "[ 1  2  3  4  5  6 10 11 12 13 14 15]\n"
     ]
    }
   ],
   "source": [
    "reshapeArr3d = arr3d.reshape(-1) # -1 para pasarlo a 1 dimension\n",
    "print(reshapeArr3d)"
   ]
  },
  {
   "cell_type": "markdown",
   "id": "85b24981",
   "metadata": {},
   "source": [
    "### WHERE en ARRAYS"
   ]
  },
  {
   "cell_type": "code",
   "execution_count": 43,
   "id": "865b604c",
   "metadata": {},
   "outputs": [
    {
     "name": "stdout",
     "output_type": "stream",
     "text": [
      "[1 2 3 4 5 6]\n"
     ]
    }
   ],
   "source": [
    "print(reshapeArr2d)"
   ]
  },
  {
   "cell_type": "code",
   "execution_count": 44,
   "id": "8291e810",
   "metadata": {},
   "outputs": [
    {
     "name": "stdout",
     "output_type": "stream",
     "text": [
      "(array([4], dtype=int64),)\n"
     ]
    }
   ],
   "source": [
    "search = np.where(arr == 5)\n",
    "print(search)\n",
    "### Devuelve el indice de la posicion"
   ]
  },
  {
   "cell_type": "markdown",
   "id": "127a2595",
   "metadata": {},
   "source": [
    "### SORT: Ordena el array"
   ]
  },
  {
   "cell_type": "code",
   "execution_count": 45,
   "id": "c65fc5cb",
   "metadata": {},
   "outputs": [],
   "source": [
    "arr_des = np.array([4,6,74,6,4,63,54,6,4,6,49])"
   ]
  },
  {
   "cell_type": "code",
   "execution_count": 46,
   "id": "17a4a201",
   "metadata": {},
   "outputs": [
    {
     "name": "stdout",
     "output_type": "stream",
     "text": [
      "[ 4  4  4  6  6  6  6 49 54 63 74]\n"
     ]
    }
   ],
   "source": [
    "print(np.sort(arr_des))"
   ]
  },
  {
   "cell_type": "code",
   "execution_count": 47,
   "id": "a9583143",
   "metadata": {},
   "outputs": [],
   "source": [
    "arr_des = np.array([\"Maria\",\"Pedro\",\"Alberto\",\"Jamil\"])"
   ]
  },
  {
   "cell_type": "code",
   "execution_count": 48,
   "id": "833b33a7",
   "metadata": {},
   "outputs": [
    {
     "name": "stdout",
     "output_type": "stream",
     "text": [
      "['Alberto' 'Jamil' 'Maria' 'Pedro']\n"
     ]
    }
   ],
   "source": [
    "print(np.sort(arr_des))"
   ]
  },
  {
   "cell_type": "code",
   "execution_count": 49,
   "id": "151a94e1",
   "metadata": {},
   "outputs": [],
   "source": [
    "arr_des2d = np.array([[19,20,6],[19,6,8]])"
   ]
  },
  {
   "cell_type": "code",
   "execution_count": 50,
   "id": "97caafbd",
   "metadata": {},
   "outputs": [
    {
     "name": "stdout",
     "output_type": "stream",
     "text": [
      "[[ 6 19 20]\n",
      " [ 6  8 19]]\n"
     ]
    }
   ],
   "source": [
    "print(np.sort(arr_des2d))\n"
   ]
  },
  {
   "cell_type": "markdown",
   "id": "227460c4",
   "metadata": {},
   "source": [
    "### Filtar"
   ]
  },
  {
   "cell_type": "code",
   "execution_count": 51,
   "id": "17e2e81e",
   "metadata": {},
   "outputs": [],
   "source": [
    "arr = np.array([1,2,3,4,5,6,7,8,9])"
   ]
  },
  {
   "cell_type": "code",
   "execution_count": 52,
   "id": "2de0992c",
   "metadata": {},
   "outputs": [
    {
     "name": "stdout",
     "output_type": "stream",
     "text": [
      "[6 7 8 9]\n"
     ]
    }
   ],
   "source": [
    "newarr = arr[arr>5]\n",
    "print(newarr)"
   ]
  },
  {
   "cell_type": "code",
   "execution_count": 53,
   "id": "711ae740",
   "metadata": {},
   "outputs": [
    {
     "name": "stdout",
     "output_type": "stream",
     "text": [
      "[4 5 6 7 8 9]\n"
     ]
    }
   ],
   "source": [
    "newarr2 = arr[arr>=4]\n",
    "print(newarr2)"
   ]
  },
  {
   "cell_type": "markdown",
   "id": "139f516a",
   "metadata": {},
   "source": [
    "### Arange: Genera arrays con valores en orden"
   ]
  },
  {
   "cell_type": "code",
   "execution_count": 54,
   "id": "86535b27",
   "metadata": {},
   "outputs": [
    {
     "name": "stdout",
     "output_type": "stream",
     "text": [
      "[ 0  1  2  3  4  5  6  7  8  9 10 11 12 13 14 15 16 17 18 19 20 21 22 23\n",
      " 24 25 26 27 28 29 30 31 32 33 34 35 36 37 38 39]\n"
     ]
    }
   ],
   "source": [
    "arange = np.arange(40)\n",
    "print(arange)"
   ]
  },
  {
   "cell_type": "code",
   "execution_count": 55,
   "id": "9726e053",
   "metadata": {},
   "outputs": [
    {
     "name": "stdout",
     "output_type": "stream",
     "text": [
      "[ 3  4  5  6  7  8  9 10 11 12 13 14 15 16 17 18 19 20 21 22 23 24]\n"
     ]
    }
   ],
   "source": [
    "arange2 = np.arange(3,25)\n",
    "print(arange2)"
   ]
  },
  {
   "cell_type": "code",
   "execution_count": 56,
   "id": "3812643f",
   "metadata": {},
   "outputs": [
    {
     "name": "stdout",
     "output_type": "stream",
     "text": [
      "[  5  10  15  20  25  30  35  40  45  50  55  60  65  70  75  80  85  90\n",
      "  95 100 105 110 115 120 125 130 135 140 145 150 155 160 165 170 175 180\n",
      " 185 190 195 200 205 210 215 220 225 230 235 240 245 250 255 260 265 270\n",
      " 275 280 285 290 295 300 305 310 315 320 325 330 335 340 345 350 355 360\n",
      " 365 370 375 380 385 390 395 400 405 410 415 420 425 430 435 440 445 450\n",
      " 455 460 465 470 475 480 485 490 495 500 505 510 515 520]\n"
     ]
    }
   ],
   "source": [
    "arange3 = np.arange(5,525,5)\n",
    "print(arange3)"
   ]
  },
  {
   "cell_type": "code",
   "execution_count": 57,
   "id": "5a98c8ec",
   "metadata": {},
   "outputs": [],
   "source": [
    "### MEMORIA: Numpy Array VS Python List"
   ]
  },
  {
   "cell_type": "code",
   "execution_count": 58,
   "id": "f44bd9be",
   "metadata": {},
   "outputs": [
    {
     "name": "stdout",
     "output_type": "stream",
     "text": [
      "Tamaño de cada elemento en bytes:  48\n",
      "Tamaño del total en byte:  48000\n"
     ]
    }
   ],
   "source": [
    "import sys\n",
    "s = range(1000)\n",
    "print(\"Tamaño de cada elemento en bytes: \", sys.getsizeof(s))\n",
    "print(\"Tamaño del total en byte: \", sys.getsizeof(s)*len(s))"
   ]
  },
  {
   "cell_type": "code",
   "execution_count": 59,
   "id": "8dd427ee",
   "metadata": {},
   "outputs": [
    {
     "name": "stdout",
     "output_type": "stream",
     "text": [
      "El tamaño de cada elemento en bytes:  4\n",
      "El tamaño total en bytes:  4000\n"
     ]
    }
   ],
   "source": [
    "s_a = np.arange(1000)\n",
    "print(\"El tamaño de cada elemento en bytes: \",s_a.itemsize)\n",
    "print(\"El tamaño total en bytes: \", s_a.itemsize*s_a.size)"
   ]
  },
  {
   "cell_type": "markdown",
   "id": "121f3528",
   "metadata": {},
   "source": [
    "### Arrays de CEROS y UNOS"
   ]
  },
  {
   "cell_type": "code",
   "execution_count": 60,
   "id": "cc35e63a",
   "metadata": {},
   "outputs": [
    {
     "name": "stdout",
     "output_type": "stream",
     "text": [
      "[0. 0. 0. 0. 0. 0. 0. 0. 0. 0.]\n"
     ]
    }
   ],
   "source": [
    "ceros = np.zeros(10)\n",
    "print(ceros)"
   ]
  },
  {
   "cell_type": "code",
   "execution_count": 61,
   "id": "46d3a56d",
   "metadata": {},
   "outputs": [
    {
     "data": {
      "text/plain": [
       "array([[1., 1., 1., 1., 1.],\n",
       "       [1., 1., 1., 1., 1.]])"
      ]
     },
     "execution_count": 61,
     "metadata": {},
     "output_type": "execute_result"
    }
   ],
   "source": [
    "unos = np.ones((2,5))\n",
    "unos"
   ]
  },
  {
   "cell_type": "markdown",
   "id": "16e9542f",
   "metadata": {},
   "source": [
    "### LINSPACE: Segmenta uniformemente de acuerdo al numero propuesto"
   ]
  },
  {
   "cell_type": "code",
   "execution_count": 62,
   "id": "fd7e4a3b",
   "metadata": {},
   "outputs": [
    {
     "name": "stdout",
     "output_type": "stream",
     "text": [
      "[ 2.  6. 10.]\n"
     ]
    }
   ],
   "source": [
    "print(np.linspace(2,10,num=3))"
   ]
  },
  {
   "cell_type": "code",
   "execution_count": 63,
   "id": "94775921",
   "metadata": {},
   "outputs": [
    {
     "name": "stdout",
     "output_type": "stream",
     "text": [
      "[ 2.   6.5 11.  15.5 20. ]\n"
     ]
    }
   ],
   "source": [
    "print(np.linspace(2,20, num = 5))"
   ]
  },
  {
   "cell_type": "markdown",
   "id": "8b297167",
   "metadata": {},
   "source": [
    "### RANDOM: Numeros aleatorios"
   ]
  },
  {
   "cell_type": "code",
   "execution_count": 64,
   "id": "55c39bab",
   "metadata": {},
   "outputs": [
    {
     "data": {
      "text/plain": [
       "array([9.95701113e-01, 8.57858786e-01, 3.74948505e-01, 4.10188287e-01,\n",
       "       7.86072360e-01, 4.95079586e-01, 5.93961831e-05, 6.92517899e-01,\n",
       "       8.42886058e-01, 1.26170819e-01, 8.11310351e-01, 1.74793597e-01,\n",
       "       8.54173903e-01, 8.37960924e-01, 2.41457776e-02, 7.84513314e-01,\n",
       "       6.67538025e-01, 9.78455867e-01, 1.78596397e-02, 8.96855200e-01,\n",
       "       2.87515873e-01, 7.32523008e-01, 4.34215011e-01, 2.20875690e-01,\n",
       "       6.25614062e-01, 9.77380139e-01, 8.62257640e-01, 6.68116181e-01,\n",
       "       1.43829866e-01, 1.55556258e-01, 6.18777689e-01, 8.62320588e-01,\n",
       "       4.49344976e-01, 2.59421405e-01, 3.55387298e-01, 7.07655880e-01,\n",
       "       8.28302965e-01, 1.81183149e-01, 7.68057249e-01, 1.16704639e-02,\n",
       "       9.89735719e-01, 3.74737443e-01, 2.49673787e-01, 4.39930677e-01,\n",
       "       8.31403036e-01, 1.42759131e-01, 2.51990788e-01, 9.00850072e-01,\n",
       "       6.52747465e-01, 6.21928044e-01])"
      ]
     },
     "execution_count": 64,
     "metadata": {},
     "output_type": "execute_result"
    }
   ],
   "source": [
    "rand_uniform = np.random.rand(50)\n",
    "rand_uniform"
   ]
  },
  {
   "cell_type": "code",
   "execution_count": 65,
   "id": "75bdb5e2",
   "metadata": {},
   "outputs": [
    {
     "data": {
      "text/plain": [
       "array([ 0.4646486 ,  0.74233057,  2.33325608, -1.16798696, -0.22889446,\n",
       "        0.79722615, -0.86115496, -0.13969019,  0.78553985, -0.17986098,\n",
       "        0.93819967,  0.29921556, -1.00270245,  0.26856117,  0.68424686,\n",
       "       -0.75044824, -1.52639328,  0.52911914, -0.60438997,  1.25465458,\n",
       "       -0.22596104,  1.77367101,  1.14608581, -0.19382835, -0.13630484,\n",
       "       -0.02308927, -0.42468147, -1.62173267,  0.89326642,  0.43499751,\n",
       "        0.07147202,  0.17649469, -1.08382277, -1.68632007,  0.48364482,\n",
       "        1.41153147,  0.40023844,  0.14500706,  0.40398411, -0.34310559,\n",
       "       -0.80092421,  1.62918802,  1.4843489 ,  0.65772823,  0.3934566 ,\n",
       "        0.70452238, -0.72530476, -0.42647371, -1.28995561,  0.31017955,\n",
       "        0.03888005, -0.36278736, -2.24719181, -0.21754121,  0.96693472,\n",
       "        0.10503764, -0.77116402,  1.09063048,  1.48787315, -0.49554667,\n",
       "        0.96577956, -0.40625585, -0.33138058,  0.61588432,  0.77789734,\n",
       "       -0.13276422, -0.2769562 ,  0.88880524,  1.53097635,  1.03231502,\n",
       "       -0.50977612,  0.10683524,  0.7119699 , -1.29247603,  0.70358916,\n",
       "       -0.79862458, -0.11502794,  1.44621145, -1.67927991,  1.43763203,\n",
       "        0.39984642,  0.74792732, -1.05562142,  1.0828835 ,  2.82806713,\n",
       "       -0.07663581,  2.23117791, -0.71109714,  1.40290042,  0.83851013,\n",
       "       -0.91321134,  0.19693989,  0.54996525,  1.41624002, -0.91440289,\n",
       "       -0.04360702, -0.11545248, -0.08901696, -0.09021674,  0.0084403 ])"
      ]
     },
     "execution_count": 65,
     "metadata": {},
     "output_type": "execute_result"
    }
   ],
   "source": [
    "rand_norm = np.random.randn(100)\n",
    "rand_norm"
   ]
  },
  {
   "cell_type": "code",
   "execution_count": 66,
   "id": "07944b79",
   "metadata": {},
   "outputs": [],
   "source": [
    "import matplotlib.pyplot as plt"
   ]
  },
  {
   "cell_type": "code",
   "execution_count": 67,
   "id": "2677adb2",
   "metadata": {},
   "outputs": [
    {
     "data": {
      "image/png": "[encoded data removed]",
      "text/plain": [
       "<Figure size 432x288 with 1 Axes>"
      ]
     },
     "metadata": {
      "needs_background": "light"
     },
     "output_type": "display_data"
    }
   ],
   "source": [
    "rand_uniform = np.random.rand(1000)\n",
    "pdf, bins, patches = plt.hist(rand_uniform, bins=10, range=(0,1), density=True)\n",
    "plt.title(\"Distribucion Uniforme\")\n",
    "plt.show()"
   ]
  },
  {
   "cell_type": "code",
   "execution_count": 68,
   "id": "6fdd88a1",
   "metadata": {},
   "outputs": [
    {
     "data": {
      "image/png": "[encoded data removed]",
      "text/plain": [
       "<Figure size 432x288 with 1 Axes>"
      ]
     },
     "metadata": {
      "needs_background": "light"
     },
     "output_type": "display_data"
    }
   ],
   "source": [
    "rand_norm = np.random.randn(100000000)\n",
    "pdf, bins, patches = plt.hist(rand_norm, bins=30, range=(-4,4), density=True)\n",
    "plt.title(\"Distribucion Normal\")\n",
    "plt.show()"
   ]
  },
  {
   "cell_type": "markdown",
   "id": "aa5f46d1",
   "metadata": {},
   "source": [
    "### OPERACIONES MATEMATICAS"
   ]
  },
  {
   "cell_type": "code",
   "execution_count": 69,
   "id": "000f7a99",
   "metadata": {},
   "outputs": [
    {
     "data": {
      "text/plain": [
       "array([1, 2, 3, 4, 5, 6, 7, 8, 9])"
      ]
     },
     "execution_count": 69,
     "metadata": {},
     "output_type": "execute_result"
    }
   ],
   "source": [
    "arr1=np.arange(1,10)\n",
    "arr1"
   ]
  },
  {
   "cell_type": "code",
   "execution_count": 70,
   "id": "39249351",
   "metadata": {},
   "outputs": [
    {
     "name": "stdout",
     "output_type": "stream",
     "text": [
      "[ 6  7  8  9 10 11 12 13 14]\n"
     ]
    }
   ],
   "source": [
    "print(arr1+5)"
   ]
  },
  {
   "cell_type": "code",
   "execution_count": 71,
   "id": "e50eae85",
   "metadata": {},
   "outputs": [
    {
     "name": "stdout",
     "output_type": "stream",
     "text": [
      "[0.5 1.  1.5 2.  2.5 3.  3.5 4.  4.5]\n"
     ]
    }
   ],
   "source": [
    "print(arr1/2)"
   ]
  },
  {
   "cell_type": "code",
   "execution_count": 72,
   "id": "89c5b5c4",
   "metadata": {},
   "outputs": [
    {
     "data": {
      "text/plain": [
       "array([10., 20., 30., 40., 50., 60., 70., 80., 90.])"
      ]
     },
     "execution_count": 72,
     "metadata": {},
     "output_type": "execute_result"
    }
   ],
   "source": [
    "arr2=np.linspace(10,90, num=9)\n",
    "arr2"
   ]
  },
  {
   "cell_type": "code",
   "execution_count": 73,
   "id": "74fc5ac0",
   "metadata": {},
   "outputs": [
    {
     "data": {
      "text/plain": [
       "array([11., 22., 33., 44., 55., 66., 77., 88., 99.])"
      ]
     },
     "execution_count": 73,
     "metadata": {},
     "output_type": "execute_result"
    }
   ],
   "source": [
    "arr3 = arr1 + arr2\n",
    "arr3"
   ]
  },
  {
   "cell_type": "code",
   "execution_count": 74,
   "id": "51c8289a",
   "metadata": {},
   "outputs": [
    {
     "data": {
      "text/plain": [
       "array([11., 22., 33., 44., 55., 66., 77., 88., 99.])"
      ]
     },
     "execution_count": 74,
     "metadata": {},
     "output_type": "execute_result"
    }
   ],
   "source": [
    "np.add(arr1,arr2)"
   ]
  },
  {
   "cell_type": "code",
   "execution_count": 75,
   "id": "ae07b4bc",
   "metadata": {},
   "outputs": [
    {
     "data": {
      "text/plain": [
       "array([ -9., -18., -27., -36., -45., -54., -63., -72., -81.])"
      ]
     },
     "execution_count": 75,
     "metadata": {},
     "output_type": "execute_result"
    }
   ],
   "source": [
    "np.subtract(arr1,arr2)"
   ]
  },
  {
   "cell_type": "code",
   "execution_count": 76,
   "id": "c99f6361",
   "metadata": {},
   "outputs": [
    {
     "data": {
      "text/plain": [
       "array([101, 102, 103, 104, 105, 106, 107, 108, 109])"
      ]
     },
     "execution_count": 76,
     "metadata": {},
     "output_type": "execute_result"
    }
   ],
   "source": [
    "np.add(arr1,100)"
   ]
  },
  {
   "cell_type": "markdown",
   "id": "bc381f01",
   "metadata": {},
   "source": [
    "### CONCATENAR:"
   ]
  },
  {
   "cell_type": "code",
   "execution_count": 77,
   "id": "dd74b3a7",
   "metadata": {},
   "outputs": [],
   "source": [
    "arr1 = np.array([1,2,3,4,5])\n",
    "arr2 = np.array([6,7,8,9,10])"
   ]
  },
  {
   "cell_type": "code",
   "execution_count": 78,
   "id": "cce53340",
   "metadata": {},
   "outputs": [
    {
     "data": {
      "text/plain": [
       "array([ 1,  2,  3,  4,  5,  6,  7,  8,  9, 10])"
      ]
     },
     "execution_count": 78,
     "metadata": {},
     "output_type": "execute_result"
    }
   ],
   "source": [
    "arr3 = np.concatenate((arr1,arr2))\n",
    "arr3"
   ]
  },
  {
   "cell_type": "markdown",
   "id": "2aca56f9",
   "metadata": {},
   "source": [
    "### STACK: Concatena aumentando dimensiones"
   ]
  },
  {
   "cell_type": "code",
   "execution_count": 79,
   "id": "784fa7bc",
   "metadata": {},
   "outputs": [
    {
     "data": {
      "text/plain": [
       "array([[ 1,  2,  3,  4,  5],\n",
       "       [ 6,  7,  8,  9, 10]])"
      ]
     },
     "execution_count": 79,
     "metadata": {},
     "output_type": "execute_result"
    }
   ],
   "source": [
    "arr3a = np.stack((arr1,arr2))\n",
    "arr3a"
   ]
  },
  {
   "cell_type": "markdown",
   "id": "b290ebba",
   "metadata": {},
   "source": [
    "### VSTACK - HSCTACK"
   ]
  },
  {
   "cell_type": "code",
   "execution_count": 80,
   "id": "21e32706",
   "metadata": {},
   "outputs": [
    {
     "data": {
      "text/plain": [
       "array([[ 1,  2,  3,  4,  5],\n",
       "       [ 6,  7,  8,  9, 10]])"
      ]
     },
     "execution_count": 80,
     "metadata": {},
     "output_type": "execute_result"
    }
   ],
   "source": [
    "arrv = np.vstack((arr1,arr2))\n",
    "arrv"
   ]
  },
  {
   "cell_type": "code",
   "execution_count": 81,
   "id": "bdebd546",
   "metadata": {},
   "outputs": [
    {
     "data": {
      "text/plain": [
       "array([ 1,  2,  3,  4,  5,  6,  7,  8,  9, 10])"
      ]
     },
     "execution_count": 81,
     "metadata": {},
     "output_type": "execute_result"
    }
   ],
   "source": [
    "arrh = np.hstack((arr1,arr2))\n",
    "arrh"
   ]
  },
  {
   "cell_type": "markdown",
   "id": "d965e5f7",
   "metadata": {},
   "source": [
    "### SPLIT:"
   ]
  },
  {
   "cell_type": "code",
   "execution_count": 82,
   "id": "a3705905",
   "metadata": {},
   "outputs": [
    {
     "name": "stdout",
     "output_type": "stream",
     "text": [
      "[array([1, 2]), array([3, 4]), array([5])]\n"
     ]
    }
   ],
   "source": [
    "arr1\n",
    "print(np.array_split(arr1,3))"
   ]
  },
  {
   "cell_type": "code",
   "execution_count": 83,
   "id": "5efe8560",
   "metadata": {},
   "outputs": [
    {
     "name": "stdout",
     "output_type": "stream",
     "text": [
      "[array([1, 2, 3]), array([4, 5])]\n"
     ]
    }
   ],
   "source": [
    "arr3\n",
    "print(np.array_split(arr1,2))"
   ]
  },
  {
   "cell_type": "code",
   "execution_count": 84,
   "id": "af0be669",
   "metadata": {},
   "outputs": [
    {
     "name": "stdout",
     "output_type": "stream",
     "text": [
      "[array([1, 2]), array([3, 4]), array([5, 6]), array([7, 8]), array([ 9, 10])]\n"
     ]
    }
   ],
   "source": [
    "arrh\n",
    "print(np.array_split(arrh,5))"
   ]
  },
  {
   "cell_type": "code",
   "execution_count": 85,
   "id": "506ff653",
   "metadata": {},
   "outputs": [
    {
     "name": "stdout",
     "output_type": "stream",
     "text": [
      "[array([[1, 2, 3]]), array([[4, 5, 6]]), array([], shape=(0, 3), dtype=int32)]\n"
     ]
    }
   ],
   "source": [
    "arr2d\n",
    "print(np.array_split(arr2d,3))"
   ]
  },
  {
   "cell_type": "code",
   "execution_count": 86,
   "id": "58ae89f5",
   "metadata": {},
   "outputs": [],
   "source": [
    "### INSERT: Inserta nuevo valor en posicion especifica"
   ]
  },
  {
   "cell_type": "code",
   "execution_count": 87,
   "id": "d64a3956",
   "metadata": {},
   "outputs": [],
   "source": [
    "arr = np.arange(1,10)"
   ]
  },
  {
   "cell_type": "code",
   "execution_count": 88,
   "id": "823653b7",
   "metadata": {},
   "outputs": [
    {
     "data": {
      "text/plain": [
       "array([  1,   2, 999,   3,   4,   5,   6,   7,   8,   9])"
      ]
     },
     "execution_count": 88,
     "metadata": {},
     "output_type": "execute_result"
    }
   ],
   "source": [
    "np.insert(arr,2,999) # insert(array,posicion,nuevo valor)"
   ]
  },
  {
   "cell_type": "code",
   "execution_count": null,
   "id": "d6b13664",
   "metadata": {},
   "outputs": [],
   "source": [
    "### APPEND: Inserta nuevo valor al final"
   ]
  },
  {
   "cell_type": "code",
   "execution_count": 89,
   "id": "8030ed85",
   "metadata": {},
   "outputs": [
    {
     "data": {
      "text/plain": [
       "array([  1,   2,   3,   4,   5,   6,   7,   8,   9, 999])"
      ]
     },
     "execution_count": 89,
     "metadata": {},
     "output_type": "execute_result"
    }
   ],
   "source": [
    "np.append(arr,999) #append(array, nuevo valor)"
   ]
  },
  {
   "cell_type": "code",
   "execution_count": null,
   "id": "9f78802f",
   "metadata": {},
   "outputs": [],
   "source": [
    "### DELETE: Eliminar valor de un array"
   ]
  },
  {
   "cell_type": "code",
   "execution_count": 90,
   "id": "c6a51b40",
   "metadata": {},
   "outputs": [
    {
     "data": {
      "text/plain": [
       "array([1, 2, 3, 4, 6, 7, 8, 9])"
      ]
     },
     "execution_count": 90,
     "metadata": {},
     "output_type": "execute_result"
    }
   ],
   "source": [
    "np.delete(arr,4)"
   ]
  }
 ],
 "metadata": {
  "kernelspec": {
   "display_name": "Python 3",
   "language": "python",
   "name": "python3"
  },
  "language_info": {
   "codemirror_mode": {
    "name": "ipython",
    "version": 3
   },
   "file_extension": ".py",
   "mimetype": "text/x-python",
   "name": "python",
   "nbconvert_exporter": "python",
   "pygments_lexer": "ipython3",
   "version": "3.8.8"
  }
 },
 "nbformat": 4,
 "nbformat_minor": 5
}
