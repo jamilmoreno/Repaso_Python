{
 "cells": [
  {
   "cell_type": "code",
   "execution_count": 1,
   "id": "4c9f6e44",
   "metadata": {},
   "outputs": [],
   "source": [
    "import numpy as np"
   ]
  },
  {
   "cell_type": "markdown",
   "id": "3139d559",
   "metadata": {},
   "source": [
    "# **MATRICES**"
   ]
  },
  {
   "cell_type": "markdown",
   "id": "aeb50e6c",
   "metadata": {},
   "source": [
    "### Definiendo matrices"
   ]
  },
  {
   "cell_type": "code",
   "execution_count": 8,
   "id": "ce2230fb",
   "metadata": {},
   "outputs": [
    {
     "data": {
      "text/plain": [
       "array([[0, 1, 0],\n",
       "       [0, 0, 1]])"
      ]
     },
     "execution_count": 8,
     "metadata": {},
     "output_type": "execute_result"
    }
   ],
   "source": [
    "R = np.array([[0,1,0],[0,0,1]])\n",
    "R"
   ]
  },
  {
   "cell_type": "code",
   "execution_count": 15,
   "id": "99f69810",
   "metadata": {},
   "outputs": [
    {
     "data": {
      "text/plain": [
       "array([[-1.5789474 ],\n",
       "       [ 0.96491228],\n",
       "       [ 0.56140351]])"
      ]
     },
     "execution_count": 15,
     "metadata": {},
     "output_type": "execute_result"
    }
   ],
   "source": [
    "beta = np.array([[-1.5789474],[0.96491228],[0.56140351]])\n",
    "beta"
   ]
  },
  {
   "cell_type": "code",
   "execution_count": 23,
   "id": "7db04516",
   "metadata": {},
   "outputs": [
    {
     "data": {
      "text/plain": [
       "array([[ 0.96 , -0.1  , -0.13 ],\n",
       "       [-0.1  ,  0.11 , -0.05 ],\n",
       "       [-0.13 , -0.05 ,  0.068]])"
      ]
     },
     "execution_count": 23,
     "metadata": {},
     "output_type": "execute_result"
    }
   ],
   "source": [
    "x_x = np.array([[0.96,-0.1,-0.13],[-0.1,0.11,-0.05],[-0.13,-0.05,0.068]])\n",
    "x_x"
   ]
  },
  {
   "cell_type": "markdown",
   "id": "74c9d60f",
   "metadata": {},
   "source": [
    "### Multiplicacion de matrices: @"
   ]
  },
  {
   "cell_type": "code",
   "execution_count": 16,
   "id": "66bf0801",
   "metadata": {},
   "outputs": [
    {
     "data": {
      "text/plain": [
       "array([[0.96491228],\n",
       "       [0.56140351]])"
      ]
     },
     "execution_count": 16,
     "metadata": {},
     "output_type": "execute_result"
    }
   ],
   "source": [
    "a = R@beta\n",
    "a"
   ]
  },
  {
   "cell_type": "markdown",
   "id": "9a755f48",
   "metadata": {},
   "source": [
    "### Transpuesta de una matriz: \" *np.transpose* \""
   ]
  },
  {
   "cell_type": "code",
   "execution_count": 22,
   "id": "21d66a35",
   "metadata": {},
   "outputs": [
    {
     "data": {
      "text/plain": [
       "array([[0.96491228, 0.56140351]])"
      ]
     },
     "execution_count": 22,
     "metadata": {},
     "output_type": "execute_result"
    }
   ],
   "source": [
    "np.transpose(a)"
   ]
  },
  {
   "cell_type": "code",
   "execution_count": 20,
   "id": "7192d37b",
   "metadata": {},
   "outputs": [],
   "source": [
    "m=np.array([[3,4,-1],[2,0,1],[1,3,-2]])"
   ]
  },
  {
   "cell_type": "markdown",
   "id": "18522993",
   "metadata": {},
   "source": [
    "### Inversa de una matriz: \" *np.linalg.inv* \""
   ]
  },
  {
   "cell_type": "code",
   "execution_count": 21,
   "id": "f1b12dd4",
   "metadata": {},
   "outputs": [
    {
     "data": {
      "text/plain": [
       "array([[-0.6,  1. ,  0.8],\n",
       "       [ 1. , -1. , -1. ],\n",
       "       [ 1.2, -1. , -1.6]])"
      ]
     },
     "execution_count": 21,
     "metadata": {},
     "output_type": "execute_result"
    }
   ],
   "source": [
    "np.linalg.inv(m)"
   ]
  },
  {
   "cell_type": "code",
   "execution_count": 26,
   "id": "4aa0cc96",
   "metadata": {},
   "outputs": [
    {
     "data": {
      "text/plain": [
       "array([[0.96491228, 0.56140351]])"
      ]
     },
     "execution_count": 26,
     "metadata": {},
     "output_type": "execute_result"
    }
   ],
   "source": [
    "a =np.transpose(R@beta)\n",
    "a"
   ]
  },
  {
   "cell_type": "code",
   "execution_count": 36,
   "id": "daa72d4f",
   "metadata": {},
   "outputs": [
    {
     "data": {
      "text/plain": [
       "array([[13.65461847, 10.04016064],\n",
       "       [10.04016064, 22.08835341]])"
      ]
     },
     "execution_count": 36,
     "metadata": {},
     "output_type": "execute_result"
    }
   ],
   "source": [
    "b = np.linalg.inv(R@x_x@np.transpose(R))\n",
    "b"
   ]
  },
  {
   "cell_type": "code",
   "execution_count": 30,
   "id": "ad2e7106",
   "metadata": {},
   "outputs": [
    {
     "data": {
      "text/plain": [
       "array([[0.96491228],\n",
       "       [0.56140351]])"
      ]
     },
     "execution_count": 30,
     "metadata": {},
     "output_type": "execute_result"
    }
   ],
   "source": [
    "c = R@beta\n",
    "c"
   ]
  },
  {
   "cell_type": "code",
   "execution_count": 37,
   "id": "9c933580",
   "metadata": {},
   "outputs": [
    {
     "name": "stdout",
     "output_type": "stream",
     "text": [
      "[[8.53672777]]\n"
     ]
    }
   ],
   "source": [
    "print((a@b@c)/2/(7.157894/4))"
   ]
  },
  {
   "cell_type": "code",
   "execution_count": 40,
   "id": "fc8a4011",
   "metadata": {},
   "outputs": [
    {
     "name": "stdout",
     "output_type": "stream",
     "text": [
      "[[8.53721034]]\n"
     ]
    }
   ],
   "source": [
    "print((np.transpose(R@beta)@np.linalg.inv(R@x_x@np.transpose(R))@R@beta)/2/(7.1574894/4))"
   ]
  }
 ],
 "metadata": {
  "kernelspec": {
   "display_name": "Python 3",
   "language": "python",
   "name": "python3"
  },
  "language_info": {
   "codemirror_mode": {
    "name": "ipython",
    "version": 3
   },
   "file_extension": ".py",
   "mimetype": "text/x-python",
   "name": "python",
   "nbconvert_exporter": "python",
   "pygments_lexer": "ipython3",
   "version": "3.8.8"
  }
 },
 "nbformat": 4,
 "nbformat_minor": 5
}
