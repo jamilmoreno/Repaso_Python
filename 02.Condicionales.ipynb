{
 "cells": [
  {
   "cell_type": "markdown",
   "id": "217c9aca",
   "metadata": {},
   "source": [
    "# CONDICIONALES"
   ]
  },
  {
   "cell_type": "markdown",
   "id": "3ea091b8",
   "metadata": {},
   "source": [
    "### CONDICIONES (IF , ELIF , ELSE)"
   ]
  },
  {
   "cell_type": "code",
   "execution_count": 9,
   "id": "045cf999",
   "metadata": {},
   "outputs": [],
   "source": [
    "a = 8\n",
    "b = 4\n",
    "c = 2\n",
    "d = 6"
   ]
  },
  {
   "cell_type": "code",
   "execution_count": 10,
   "id": "5b32d3fa",
   "metadata": {},
   "outputs": [
    {
     "data": {
      "text/plain": [
       "True"
      ]
     },
     "execution_count": 10,
     "metadata": {},
     "output_type": "execute_result"
    }
   ],
   "source": [
    "a > b\n"
   ]
  },
  {
   "cell_type": "code",
   "execution_count": 11,
   "id": "167cf394",
   "metadata": {},
   "outputs": [
    {
     "data": {
      "text/plain": [
       "False"
      ]
     },
     "execution_count": 11,
     "metadata": {},
     "output_type": "execute_result"
    }
   ],
   "source": [
    "a < d"
   ]
  },
  {
   "cell_type": "code",
   "execution_count": 12,
   "id": "c04a897f",
   "metadata": {},
   "outputs": [
    {
     "name": "stdout",
     "output_type": "stream",
     "text": [
      "La expresion es correcta\n"
     ]
    }
   ],
   "source": [
    "if (a > b):\n",
    "    print(\"La expresion es correcta\")"
   ]
  },
  {
   "cell_type": "code",
   "execution_count": 13,
   "id": "d7c9c41b",
   "metadata": {},
   "outputs": [
    {
     "name": "stdout",
     "output_type": "stream",
     "text": [
      "Ambas condiciones son correctas\n"
     ]
    }
   ],
   "source": [
    "if (a>c) and (b<d):\n",
    "    print(\"Ambas condiciones son correctas\")"
   ]
  },
  {
   "cell_type": "code",
   "execution_count": 14,
   "id": "04375528",
   "metadata": {},
   "outputs": [
    {
     "name": "stdout",
     "output_type": "stream",
     "text": [
      "Ambas condiciones NO son correctas\n"
     ]
    }
   ],
   "source": [
    "if (a>c) and (b>d):\n",
    "    print(\"Ambas condiciones son correctas\")\n",
    "else:\n",
    "    print(\"Ambas condiciones NO son correctas\")"
   ]
  },
  {
   "cell_type": "code",
   "execution_count": 18,
   "id": "b09b3047",
   "metadata": {},
   "outputs": [
    {
     "name": "stdout",
     "output_type": "stream",
     "text": [
      " a es diferente a b\n"
     ]
    }
   ],
   "source": [
    "a = 3\n",
    "b = 4\n",
    "\n",
    "if (a>b):\n",
    "    print(\"a es mayor que b\")\n",
    "elif (a==b):\n",
    "    print(\"a es igual a b\")\n",
    "else:\n",
    "    print(\" a es diferente a b\")"
   ]
  },
  {
   "cell_type": "markdown",
   "id": "5fb07aa6",
   "metadata": {},
   "source": [
    "## Ejercicio 1"
   ]
  },
  {
   "cell_type": "code",
   "execution_count": null,
   "id": "6b20605d",
   "metadata": {},
   "outputs": [],
   "source": [
    "# Escribir un programa que pregunte al usuario su edad y muestre por pantalla si es mayor de edad o no."
   ]
  },
  {
   "cell_type": "code",
   "execution_count": 22,
   "id": "d9f204fe",
   "metadata": {},
   "outputs": [
    {
     "name": "stdout",
     "output_type": "stream",
     "text": [
      "Escriba su edad12\n",
      "Usted es menor de edad\n"
     ]
    }
   ],
   "source": [
    "edad = int(input(\"Escriba su edad\"))\n",
    "if edad>18:\n",
    "    print(\"Usted es mayor de edad\")\n",
    "else:\n",
    "    print(\"Usted es menor de edad\")\n",
    "    "
   ]
  },
  {
   "cell_type": "markdown",
   "id": "b4f71e55",
   "metadata": {},
   "source": [
    "## Ejercicio 2"
   ]
  },
  {
   "cell_type": "code",
   "execution_count": null,
   "id": "5aacfcf7",
   "metadata": {},
   "outputs": [],
   "source": [
    "# Escribir un programa que almacene la cadena de caracteres contraseña en una variable, \n",
    "# pregunte al usuario por la contraseña e imprima por pantalla si la contraseña \n",
    "# introducida por el usuario coincide con la guardada en la variable sin tener en cuenta mayúsculas y minúsculas"
   ]
  },
  {
   "cell_type": "code",
   "execution_count": 26,
   "id": "7b043f40",
   "metadata": {},
   "outputs": [
    {
     "name": "stdout",
     "output_type": "stream",
     "text": [
      "Introduce tu contraseña12345678\n",
      "Contraseña correcta\n"
     ]
    }
   ],
   "source": [
    "# lower() -> Funcion que devuelve todos los caracteres en minuscula\n",
    "contraseña = \"12345678\"\n",
    "password = input(\"Introduce tu contraseña\")\n",
    "if contraseña == password.lower(): \n",
    "    print(\"Contraseña correcta\")\n",
    "else:\n",
    "    print(\"Contraseña incorrecta\")"
   ]
  },
  {
   "cell_type": "markdown",
   "id": "edaa6534",
   "metadata": {},
   "source": [
    "## Ejercicio 3"
   ]
  },
  {
   "cell_type": "code",
   "execution_count": null,
   "id": "4d4963d6",
   "metadata": {},
   "outputs": [],
   "source": [
    "# Escribir un programa que pida al usuario un número entero y muestre por pantalla si es par o impar"
   ]
  },
  {
   "cell_type": "code",
   "execution_count": 29,
   "id": "16046e47",
   "metadata": {},
   "outputs": [
    {
     "name": "stdout",
     "output_type": "stream",
     "text": [
      "Escriba un numero entero55\n",
      "El numero 55 es impar\n"
     ]
    }
   ],
   "source": [
    "numero = int(input(\"Escriba un numero entero\"))\n",
    "if numero%2 == 0:\n",
    "    print(\"El numero \" + str(numero) + \" es par\")\n",
    "else:\n",
    "    print(\"El numero \" + str(numero) + \" es impar\")"
   ]
  }
 ],
 "metadata": {
  "kernelspec": {
   "display_name": "Python 3",
   "language": "python",
   "name": "python3"
  },
  "language_info": {
   "codemirror_mode": {
    "name": "ipython",
    "version": 3
   },
   "file_extension": ".py",
   "mimetype": "text/x-python",
   "name": "python",
   "nbconvert_exporter": "python",
   "pygments_lexer": "ipython3",
   "version": "3.8.8"
  }
 },
 "nbformat": 4,
 "nbformat_minor": 5
}
