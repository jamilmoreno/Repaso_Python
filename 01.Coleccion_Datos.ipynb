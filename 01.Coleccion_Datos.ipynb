{
 "cells": [
  {
   "cell_type": "markdown",
   "id": "ed2f0110",
   "metadata": {},
   "source": [
    "# COLECCION DE DATOS"
   ]
  },
  {
   "cell_type": "markdown",
   "id": "36feb002",
   "metadata": {},
   "source": [
    "## Listas"
   ]
  },
  {
   "cell_type": "code",
   "execution_count": 1,
   "id": "c9009e38",
   "metadata": {},
   "outputs": [],
   "source": [
    "colores = [\"Rojo\",\"Celeste\",\"Azul\"]"
   ]
  },
  {
   "cell_type": "code",
   "execution_count": 2,
   "id": "1622c6af",
   "metadata": {},
   "outputs": [
    {
     "data": {
      "text/plain": [
       "['Rojo', 'Celeste', 'Azul']"
      ]
     },
     "execution_count": 2,
     "metadata": {},
     "output_type": "execute_result"
    }
   ],
   "source": [
    "colores"
   ]
  },
  {
   "cell_type": "code",
   "execution_count": 4,
   "id": "9d329cee",
   "metadata": {},
   "outputs": [
    {
     "data": {
      "text/plain": [
       "['Rojo', 'Azul', 'Azul']"
      ]
     },
     "execution_count": 4,
     "metadata": {},
     "output_type": "execute_result"
    }
   ],
   "source": [
    "colores[1] = \"Azul\"\n",
    "colores"
   ]
  },
  {
   "cell_type": "code",
   "execution_count": 5,
   "id": "433fbb43",
   "metadata": {},
   "outputs": [
    {
     "data": {
      "text/plain": [
       "3"
      ]
     },
     "execution_count": 5,
     "metadata": {},
     "output_type": "execute_result"
    }
   ],
   "source": [
    "len(colores)"
   ]
  },
  {
   "cell_type": "code",
   "execution_count": 7,
   "id": "50a1a117",
   "metadata": {},
   "outputs": [
    {
     "data": {
      "text/plain": [
       "['Rojo', 'Azul', 'Azul', 'Naranja']"
      ]
     },
     "execution_count": 7,
     "metadata": {},
     "output_type": "execute_result"
    }
   ],
   "source": [
    "colores.append(\"Naranja\")\n",
    "colores"
   ]
  },
  {
   "cell_type": "code",
   "execution_count": 8,
   "id": "28644219",
   "metadata": {},
   "outputs": [
    {
     "data": {
      "text/plain": [
       "['Rojo', 'Azul', 'Naranja']"
      ]
     },
     "execution_count": 8,
     "metadata": {},
     "output_type": "execute_result"
    }
   ],
   "source": [
    "colores.remove(\"Azul\")\n",
    "colores"
   ]
  },
  {
   "cell_type": "code",
   "execution_count": 9,
   "id": "91a1193e",
   "metadata": {},
   "outputs": [
    {
     "name": "stdout",
     "output_type": "stream",
     "text": [
      "Rojo\n",
      "Azul\n",
      "Naranja\n"
     ]
    }
   ],
   "source": [
    "for color in colores:\n",
    "    print(color)"
   ]
  },
  {
   "cell_type": "code",
   "execution_count": 10,
   "id": "56e2e4b6",
   "metadata": {},
   "outputs": [
    {
     "data": {
      "text/plain": [
       "[]"
      ]
     },
     "execution_count": 10,
     "metadata": {},
     "output_type": "execute_result"
    }
   ],
   "source": [
    "colores.clear()\n",
    "colores"
   ]
  },
  {
   "cell_type": "markdown",
   "id": "05f5e883",
   "metadata": {},
   "source": [
    "## Tuplas"
   ]
  },
  {
   "cell_type": "code",
   "execution_count": 11,
   "id": "e385ab34",
   "metadata": {},
   "outputs": [
    {
     "data": {
      "text/plain": [
       "('Azul', 'Amarillo', 'Rosado')"
      ]
     },
     "execution_count": 11,
     "metadata": {},
     "output_type": "execute_result"
    }
   ],
   "source": [
    "tupla_colores = (\"Azul\", \"Amarillo\",\"Rosado\")\n",
    "tupla_colores"
   ]
  },
  {
   "cell_type": "code",
   "execution_count": 12,
   "id": "24f702d9",
   "metadata": {},
   "outputs": [
    {
     "name": "stdout",
     "output_type": "stream",
     "text": [
      "Azul\n",
      "Amarillo\n",
      "Rosado\n"
     ]
    }
   ],
   "source": [
    "for color in tupla_colores:\n",
    "    print(color)"
   ]
  },
  {
   "cell_type": "code",
   "execution_count": 13,
   "id": "41ebc064",
   "metadata": {},
   "outputs": [
    {
     "data": {
      "text/plain": [
       "3"
      ]
     },
     "execution_count": 13,
     "metadata": {},
     "output_type": "execute_result"
    }
   ],
   "source": [
    "len(tupla_colores)"
   ]
  },
  {
   "cell_type": "markdown",
   "id": "a81465b0",
   "metadata": {},
   "source": [
    "## Conjuntos"
   ]
  },
  {
   "cell_type": "code",
   "execution_count": 14,
   "id": "9fc71430",
   "metadata": {},
   "outputs": [
    {
     "data": {
      "text/plain": [
       "{'Azul', 'Negro', 'Verde'}"
      ]
     },
     "execution_count": 14,
     "metadata": {},
     "output_type": "execute_result"
    }
   ],
   "source": [
    "conj_colores = {\"Azul\",\"Verde\",\"Negro\"}\n",
    "conj_colores"
   ]
  },
  {
   "cell_type": "code",
   "execution_count": 15,
   "id": "00442722",
   "metadata": {},
   "outputs": [
    {
     "data": {
      "text/plain": [
       "3"
      ]
     },
     "execution_count": 15,
     "metadata": {},
     "output_type": "execute_result"
    }
   ],
   "source": [
    "len(conj_colores)"
   ]
  },
  {
   "cell_type": "code",
   "execution_count": 18,
   "id": "a4bc4f5e",
   "metadata": {},
   "outputs": [
    {
     "data": {
      "text/plain": [
       "{'Negro', 'Verde', 'Violeta'}"
      ]
     },
     "execution_count": 18,
     "metadata": {},
     "output_type": "execute_result"
    }
   ],
   "source": [
    "conj_colores.remove(\"Azul\")\n",
    "conj_colores"
   ]
  },
  {
   "cell_type": "code",
   "execution_count": 20,
   "id": "1dacda40",
   "metadata": {},
   "outputs": [
    {
     "name": "stdout",
     "output_type": "stream",
     "text": [
      "{'Verde', 'Violeta', 'Negro'}\n"
     ]
    }
   ],
   "source": [
    "conj_colores.add(\"Violeta\")\n",
    "print(conj_colores)"
   ]
  },
  {
   "cell_type": "markdown",
   "id": "73ac06c5",
   "metadata": {},
   "source": [
    "## Diccionarios"
   ]
  },
  {
   "cell_type": "code",
   "execution_count": 21,
   "id": "4f667b8c",
   "metadata": {
    "scrolled": true
   },
   "outputs": [
    {
     "name": "stdout",
     "output_type": "stream",
     "text": [
      "{'red': 'rojo', 'blue': 'Azul', 'yellow': 'Amarillo'}\n"
     ]
    }
   ],
   "source": [
    "diccionario_colores = {\"red\":\"rojo\",\"blue\":\"Azul\",\"yellow\":\"Amarillo\"}\n",
    "print(diccionario_colores)"
   ]
  },
  {
   "cell_type": "code",
   "execution_count": 22,
   "id": "9b9d1c69",
   "metadata": {},
   "outputs": [
    {
     "data": {
      "text/plain": [
       "'rojo'"
      ]
     },
     "execution_count": 22,
     "metadata": {},
     "output_type": "execute_result"
    }
   ],
   "source": [
    "diccionario_colores[\"red\"]"
   ]
  },
  {
   "cell_type": "code",
   "execution_count": 24,
   "id": "35771d57",
   "metadata": {},
   "outputs": [
    {
     "data": {
      "text/plain": [
       "'Amarillo'"
      ]
     },
     "execution_count": 24,
     "metadata": {},
     "output_type": "execute_result"
    }
   ],
   "source": [
    "traduccion_yellow = diccionario_colores[\"yellow\"]\n",
    "traduccion_yellow"
   ]
  },
  {
   "cell_type": "code",
   "execution_count": 31,
   "id": "6eccd717",
   "metadata": {},
   "outputs": [
    {
     "data": {
      "text/plain": [
       "{'red': 'rojo', 'black': 'negro'}"
      ]
     },
     "execution_count": 31,
     "metadata": {},
     "output_type": "execute_result"
    }
   ],
   "source": [
    "diccionario_colores[\"black\"] = \"negro\"\n",
    "diccionario_colores\n"
   ]
  },
  {
   "cell_type": "code",
   "execution_count": 27,
   "id": "2bc0cf90",
   "metadata": {},
   "outputs": [
    {
     "data": {
      "text/plain": [
       "{'red': 'rojo', 'blue': 'Azul', 'black': 'negro'}"
      ]
     },
     "execution_count": 27,
     "metadata": {},
     "output_type": "execute_result"
    }
   ],
   "source": [
    "# Eliminar valores\n",
    "diccionario_colores.pop(\"yellow\")\n",
    "diccionario_colores"
   ]
  },
  {
   "cell_type": "code",
   "execution_count": 30,
   "id": "184937d0",
   "metadata": {},
   "outputs": [
    {
     "data": {
      "text/plain": [
       "{'red': 'rojo'}"
      ]
     },
     "execution_count": 30,
     "metadata": {},
     "output_type": "execute_result"
    }
   ],
   "source": [
    "# Otra forma de eliminar valores\n",
    "del(diccionario_colores[\"blue\"])\n",
    "diccionario_colores"
   ]
  },
  {
   "cell_type": "code",
   "execution_count": 32,
   "id": "51b2e0f4",
   "metadata": {},
   "outputs": [
    {
     "name": "stdout",
     "output_type": "stream",
     "text": [
      "red rojo\n",
      "black negro\n"
     ]
    }
   ],
   "source": [
    "for clave,valor in diccionario_colores.items():\n",
    "    print(clave,valor)"
   ]
  },
  {
   "cell_type": "markdown",
   "id": "213816f0",
   "metadata": {},
   "source": [
    "## EJERCICIO"
   ]
  },
  {
   "cell_type": "code",
   "execution_count": 33,
   "id": "2ed6da9c",
   "metadata": {},
   "outputs": [],
   "source": [
    "# Dado:\n",
    "lista = [1,2,5,25,33,56,75,21,56,89,43,13,62,24]\n",
    "# Mostrar mediante el metodo print y el operador in, si el numero 21 esta en la lista"
   ]
  },
  {
   "cell_type": "code",
   "execution_count": 35,
   "id": "61c129e3",
   "metadata": {},
   "outputs": [
    {
     "name": "stdout",
     "output_type": "stream",
     "text": [
      "Si esta en la lista\n"
     ]
    }
   ],
   "source": [
    "# Desarrollo\n",
    "\n",
    "numero = 21\n",
    "if numero in lista:\n",
    "    print(\"Si esta en la lista\")\n",
    "else:\n",
    "    print(\"No esta en la lista\")"
   ]
  }
 ],
 "metadata": {
  "kernelspec": {
   "display_name": "Python 3",
   "language": "python",
   "name": "python3"
  },
  "language_info": {
   "codemirror_mode": {
    "name": "ipython",
    "version": 3
   },
   "file_extension": ".py",
   "mimetype": "text/x-python",
   "name": "python",
   "nbconvert_exporter": "python",
   "pygments_lexer": "ipython3",
   "version": "3.8.8"
  }
 },
 "nbformat": 4,
 "nbformat_minor": 5
}
