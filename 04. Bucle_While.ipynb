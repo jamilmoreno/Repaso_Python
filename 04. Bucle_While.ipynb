{
 "cells": [
  {
   "cell_type": "markdown",
   "id": "32e3e707",
   "metadata": {},
   "source": [
    "# Bucle WHILE"
   ]
  },
  {
   "cell_type": "code",
   "execution_count": 1,
   "id": "6b96a03a",
   "metadata": {},
   "outputs": [
    {
     "name": "stdout",
     "output_type": "stream",
     "text": [
      "1\n",
      "2\n",
      "3\n",
      "4\n",
      "5\n",
      "6\n",
      "7\n",
      "8\n",
      "9\n"
     ]
    }
   ],
   "source": [
    "valor = 1\n",
    "fin = 10\n",
    "while (valor<fin):\n",
    "    print(valor)\n",
    "    valor = valor+1"
   ]
  },
  {
   "cell_type": "code",
   "execution_count": 2,
   "id": "298bc422",
   "metadata": {},
   "outputs": [
    {
     "name": "stdout",
     "output_type": "stream",
     "text": [
      "1\n",
      "2\n",
      "3\n",
      "4\n"
     ]
    }
   ],
   "source": [
    "valor = 1\n",
    "fin = 10\n",
    "while (valor<fin):\n",
    "    print(valor)\n",
    "    valor = valor+1\n",
    "    if valor == 5:\n",
    "        break"
   ]
  },
  {
   "cell_type": "code",
   "execution_count": 5,
   "id": "8dcdb251",
   "metadata": {},
   "outputs": [
    {
     "name": "stdout",
     "output_type": "stream",
     "text": [
      "2\n",
      "3\n",
      "4\n",
      "5\n",
      "7\n",
      "8\n",
      "9\n",
      "10\n"
     ]
    }
   ],
   "source": [
    "valor = 1\n",
    "fin = 10\n",
    "while (valor<fin):\n",
    "    valor = valor+1\n",
    "    if (valor==6):\n",
    "        continue\n",
    "    print(valor)\n",
    "    "
   ]
  },
  {
   "cell_type": "code",
   "execution_count": 8,
   "id": "e11f7c00",
   "metadata": {},
   "outputs": [
    {
     "name": "stdout",
     "output_type": "stream",
     "text": [
      "1\n",
      "2\n",
      "3\n",
      "Bucle terminado\n"
     ]
    }
   ],
   "source": [
    "i = 1\n",
    "while i <= 3:\n",
    "    print(i)\n",
    "    i+=1\n",
    "print(\"Bucle terminado\")"
   ]
  },
  {
   "cell_type": "code",
   "execution_count": 12,
   "id": "39fc7c42",
   "metadata": {},
   "outputs": [
    {
     "name": "stdout",
     "output_type": "stream",
     "text": [
      "Escriba un numero positivo  -2\n",
      "ERROR! Escriba un numero positivo\n",
      "Escriba un numero positivo-5\n",
      "ERROR! Escriba un numero positivo\n",
      "Escriba un numero positivo56\n",
      "Gracias por colaborar\n"
     ]
    }
   ],
   "source": [
    "numero = int(input(\"Escriba un numero positivo\"))\n",
    "while numero<0:\n",
    "    print(\"ERROR! Escriba un numero positivo\")\n",
    "    numero = int(input(\"Escriba un numero positivo\"))\n",
    "print(\"Gracias por colaborar\")"
   ]
  },
  {
   "cell_type": "code",
   "execution_count": 15,
   "id": "9dce7d42",
   "metadata": {},
   "outputs": [
    {
     "name": "stdout",
     "output_type": "stream",
     "text": [
      "1 2 3 4 5 6 7 8 9 10 11 12 13 14 15 16 17 18 19 20 21 22 23 24 25 26 27 28 29 30 31 32 33 34 35 36 37 38 39 40 41 42 43 44 45 46 47 48 49 50 51 52 53 54 55 56 57 58 59 60 61 62 63 64 65 66 67 68 69 70 71 72 73 74 75 76 77 78 79 80 81 82 83 84 85 86 87 88 89 90 91 92 93 94 95 96 97 98 99 "
     ]
    }
   ],
   "source": [
    "i=1\n",
    "while 1>0:\n",
    "    print(i, end=\" \")\n",
    "    i= i+ 1\n",
    "    if i == 100:\n",
    "        break\n",
    "        "
   ]
  },
  {
   "cell_type": "markdown",
   "id": "272e978f",
   "metadata": {},
   "source": [
    "## Ejercicio 1"
   ]
  },
  {
   "cell_type": "code",
   "execution_count": 18,
   "id": "b2e50907",
   "metadata": {},
   "outputs": [
    {
     "data": {
      "text/plain": [
       "{'manzana': 'apple',\n",
       " 'naranja': 'orange',\n",
       " 'platano': 'banana',\n",
       " 'limon': 'lemon'}"
      ]
     },
     "execution_count": 18,
     "metadata": {},
     "output_type": "execute_result"
    }
   ],
   "source": [
    "# Dado:\n",
    "frutas = {\"manzana\":\"apple\",\"naranja\":\"orange\",\"platano\":\"banana\",\"limon\":\"lemon\"}\n",
    "frutas"
   ]
  },
  {
   "cell_type": "code",
   "execution_count": 20,
   "id": "7228c248",
   "metadata": {},
   "outputs": [
    {
     "data": {
      "text/plain": [
       "'orange'"
      ]
     },
     "execution_count": 20,
     "metadata": {},
     "output_type": "execute_result"
    }
   ],
   "source": [
    "# Muestre la traduccion de naranja\n",
    "frutas[\"naranja\"]"
   ]
  },
  {
   "cell_type": "code",
   "execution_count": 22,
   "id": "c12ab849",
   "metadata": {},
   "outputs": [
    {
     "data": {
      "text/plain": [
       "{'manzana': 'apple',\n",
       " 'naranja': 'orange',\n",
       " 'platano': 'banana',\n",
       " 'limon': 'lemon',\n",
       " 'piña': 'pineapple'}"
      ]
     },
     "execution_count": 22,
     "metadata": {},
     "output_type": "execute_result"
    }
   ],
   "source": [
    "# Añadir pña y pineapple\n",
    "frutas[\"piña\"]=\"pineapple\"\n",
    "frutas"
   ]
  },
  {
   "cell_type": "code",
   "execution_count": 23,
   "id": "dd6507e9",
   "metadata": {},
   "outputs": [
    {
     "name": "stdout",
     "output_type": "stream",
     "text": [
      "La traduccion de manzana es apple\n",
      "La traduccion de naranja es orange\n",
      "La traduccion de platano es banana\n",
      "La traduccion de limon es lemon\n",
      "La traduccion de piña es pineapple\n"
     ]
    }
   ],
   "source": [
    "# Hacer un bucle con todos los objetos del diccionario\n",
    "for clave,valor in frutas.items():\n",
    "    print(\"La traduccion de \" + clave +\" es \"+valor)\n",
    "    \n",
    " "
   ]
  },
  {
   "cell_type": "markdown",
   "id": "c06e40e8",
   "metadata": {},
   "source": [
    "## Ejercicio 2"
   ]
  },
  {
   "cell_type": "code",
   "execution_count": null,
   "id": "4b4e302c",
   "metadata": {},
   "outputs": [],
   "source": [
    "# Crear variable input que reciba notas\n",
    "# Crear variable input que reciba notas de trabajo final\n",
    "# Calcular la nota final (promedio simple) y si aprueba el alumno (nota final > 11)"
   ]
  },
  {
   "cell_type": "code",
   "execution_count": 26,
   "id": "2b4a5d45",
   "metadata": {},
   "outputs": [
    {
     "name": "stdout",
     "output_type": "stream",
     "text": [
      "Escriba la nota del alumno12\n",
      "Escriba la nota del trabajo15\n",
      "Alumno aprobado\n"
     ]
    }
   ],
   "source": [
    "nota = int(input(\"Escriba la nota del alumno\"))\n",
    "nota_trabajo = int(input(\"Escriba la nota del trabajo\"))\n",
    "if ((nota+nota_trabajo)/2)>11:\n",
    "    print(\"Alumno aprobado\")\n",
    "else:\n",
    "    print(\"Alumno desaprobado\")"
   ]
  }
 ],
 "metadata": {
  "kernelspec": {
   "display_name": "Python 3",
   "language": "python",
   "name": "python3"
  },
  "language_info": {
   "codemirror_mode": {
    "name": "ipython",
    "version": 3
   },
   "file_extension": ".py",
   "mimetype": "text/x-python",
   "name": "python",
   "nbconvert_exporter": "python",
   "pygments_lexer": "ipython3",
   "version": "3.8.8"
  }
 },
 "nbformat": 4,
 "nbformat_minor": 5
}
