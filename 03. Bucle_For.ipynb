{
 "cells": [
  {
   "cell_type": "markdown",
   "id": "ec3b606f",
   "metadata": {},
   "source": [
    "# BUCLE FOR"
   ]
  },
  {
   "cell_type": "code",
   "execution_count": 1,
   "id": "eab54d30",
   "metadata": {},
   "outputs": [],
   "source": [
    "colores = [\"rojo\",\"azul\",\"amarillo\",\"rosado\"]"
   ]
  },
  {
   "cell_type": "code",
   "execution_count": 2,
   "id": "df43c8f0",
   "metadata": {},
   "outputs": [
    {
     "name": "stdout",
     "output_type": "stream",
     "text": [
      "rojo\n",
      "azul\n",
      "amarillo\n",
      "rosado\n"
     ]
    }
   ],
   "source": [
    "for i in colores:\n",
    "    print(i)"
   ]
  },
  {
   "cell_type": "code",
   "execution_count": 3,
   "id": "a19f5084",
   "metadata": {},
   "outputs": [
    {
     "data": {
      "text/plain": [
       "range(0, 8)"
      ]
     },
     "execution_count": 3,
     "metadata": {},
     "output_type": "execute_result"
    }
   ],
   "source": [
    "range(8)"
   ]
  },
  {
   "cell_type": "code",
   "execution_count": 5,
   "id": "e33e51e9",
   "metadata": {},
   "outputs": [
    {
     "name": "stdout",
     "output_type": "stream",
     "text": [
      "0\n",
      "1\n",
      "2\n",
      "3\n",
      "4\n",
      "5\n",
      "6\n",
      "7\n"
     ]
    }
   ],
   "source": [
    "for numero in range(8):\n",
    "    print(numero)"
   ]
  },
  {
   "cell_type": "code",
   "execution_count": 6,
   "id": "f8f67bff",
   "metadata": {},
   "outputs": [
    {
     "name": "stdout",
     "output_type": "stream",
     "text": [
      "3\n",
      "4\n",
      "5\n",
      "6\n",
      "7\n",
      "8\n",
      "9\n",
      "10\n",
      "11\n"
     ]
    }
   ],
   "source": [
    "for numero in range(3,12):\n",
    "    print(numero)"
   ]
  },
  {
   "cell_type": "code",
   "execution_count": 7,
   "id": "5cea36d9",
   "metadata": {},
   "outputs": [
    {
     "name": "stdout",
     "output_type": "stream",
     "text": [
      "3\n",
      "5\n",
      "7\n",
      "9\n",
      "11\n"
     ]
    }
   ],
   "source": [
    "for numero in range(3,12,2):\n",
    "    print(numero)"
   ]
  },
  {
   "cell_type": "code",
   "execution_count": 8,
   "id": "334e8980",
   "metadata": {},
   "outputs": [
    {
     "name": "stdout",
     "output_type": "stream",
     "text": [
      "0\n",
      "1\n",
      "2\n",
      "3\n",
      "4\n"
     ]
    }
   ],
   "source": [
    "# Para detener un blucke: BREAK\n",
    "for numero in range(8):\n",
    "    if numero==5:\n",
    "        break\n",
    "    print(numero)"
   ]
  },
  {
   "cell_type": "code",
   "execution_count": 10,
   "id": "01d2a07d",
   "metadata": {},
   "outputs": [
    {
     "name": "stdout",
     "output_type": "stream",
     "text": [
      "0 0\n",
      "0 1\n",
      "0 2\n",
      "1 0\n",
      "1 1\n",
      "1 2\n",
      "2 0\n",
      "2 1\n",
      "2 2\n",
      "3 0\n",
      "3 1\n",
      "3 2\n"
     ]
    }
   ],
   "source": [
    "# Bucle for doble\n",
    "for numero1 in range(4):\n",
    "    for numero2 in range(3):\n",
    "        print(numero1,numero2)"
   ]
  },
  {
   "cell_type": "markdown",
   "id": "d67f8147",
   "metadata": {},
   "source": [
    "## Ejercicios 1"
   ]
  },
  {
   "cell_type": "code",
   "execution_count": null,
   "id": "82ebc0c9",
   "metadata": {},
   "outputs": [],
   "source": [
    "# Escribir un programa que pida al usuario una palabra y la muestre por pantalla 10 veces."
   ]
  },
  {
   "cell_type": "code",
   "execution_count": 11,
   "id": "5451e7e6",
   "metadata": {},
   "outputs": [
    {
     "name": "stdout",
     "output_type": "stream",
     "text": [
      "Escriba una palabrajamil\n",
      "jamil\n",
      "jamil\n",
      "jamil\n",
      "jamil\n",
      "jamil\n",
      "jamil\n",
      "jamil\n",
      "jamil\n",
      "jamil\n",
      "jamil\n"
     ]
    }
   ],
   "source": [
    "palabra = input(\"Escriba una palabra\")\n",
    "for i in range(10):\n",
    "    print(palabra)"
   ]
  },
  {
   "cell_type": "markdown",
   "id": "36ed0462",
   "metadata": {},
   "source": [
    "## Ejercicio 2"
   ]
  },
  {
   "cell_type": "code",
   "execution_count": null,
   "id": "568cb651",
   "metadata": {},
   "outputs": [],
   "source": [
    "# Escribir un programa que pregunte al usuario su edad y muestre por pantalla todos los años que ha cumplido"
   ]
  },
  {
   "cell_type": "code",
   "execution_count": 23,
   "id": "e13da2c1",
   "metadata": {},
   "outputs": [
    {
     "name": "stdout",
     "output_type": "stream",
     "text": [
      "cuantos años tiene10\n",
      "Tienes 1 años.\n",
      "Tienes 2 años.\n",
      "Tienes 3 años.\n",
      "Tienes 4 años.\n",
      "Tienes 5 años.\n",
      "Tienes 6 años.\n",
      "Tienes 7 años.\n",
      "Tienes 8 años.\n",
      "Tienes 9 años.\n",
      "Tienes 10 años.\n"
     ]
    }
   ],
   "source": [
    "años = int(input(\"cuantos años tiene\"))\n",
    "for i in range(años):\n",
    " print(\"Tienes \"+ str(i+1)+ \" años.\")\n"
   ]
  },
  {
   "cell_type": "markdown",
   "id": "f69b0075",
   "metadata": {},
   "source": [
    "## Ejercicio 3"
   ]
  },
  {
   "cell_type": "code",
   "execution_count": null,
   "id": "b6aafe25",
   "metadata": {},
   "outputs": [],
   "source": [
    "# Escribir un programa que pida al usuario un número entero positivo y muestre por pantalla \n",
    "# todos los números impares desde 1 hasta ese número separados por comas"
   ]
  },
  {
   "cell_type": "code",
   "execution_count": 25,
   "id": "4a2bc9ff",
   "metadata": {},
   "outputs": [
    {
     "name": "stdout",
     "output_type": "stream",
     "text": [
      "escriba un numero entero positivo20\n",
      "1,3,5,7,9,11,13,15,17,19,"
     ]
    }
   ],
   "source": [
    "numero = int(input(\"escriba un numero entero positivo\"))\n",
    "for i in range(1,numero+1,2):\n",
    "    print(i,end=\",\")\n"
   ]
  },
  {
   "cell_type": "markdown",
   "id": "5a2908c4",
   "metadata": {},
   "source": [
    "## Ejercicio 4"
   ]
  },
  {
   "cell_type": "code",
   "execution_count": null,
   "id": "576a5877",
   "metadata": {},
   "outputs": [],
   "source": [
    "# Escribir un programa que pida al usuario un número entero positivo y muestre por pantalla \n",
    "# la cuenta atrás desde ese número hasta cero separados por comas."
   ]
  },
  {
   "cell_type": "code",
   "execution_count": 27,
   "id": "78903181",
   "metadata": {},
   "outputs": [
    {
     "name": "stdout",
     "output_type": "stream",
     "text": [
      "Escriba un numero positivo20\n",
      "20,19,18,17,16,15,14,13,12,11,10,9,8,7,6,5,4,3,2,1,0,"
     ]
    }
   ],
   "source": [
    "numero = int(input(\"Escriba un numero positivo\"))\n",
    "for i in range(numero,-1,-1):\n",
    "    print(i,end=\",\")\n"
   ]
  }
 ],
 "metadata": {
  "kernelspec": {
   "display_name": "Python 3",
   "language": "python",
   "name": "python3"
  },
  "language_info": {
   "codemirror_mode": {
    "name": "ipython",
    "version": 3
   },
   "file_extension": ".py",
   "mimetype": "text/x-python",
   "name": "python",
   "nbconvert_exporter": "python",
   "pygments_lexer": "ipython3",
   "version": "3.8.8"
  }
 },
 "nbformat": 4,
 "nbformat_minor": 5
}
